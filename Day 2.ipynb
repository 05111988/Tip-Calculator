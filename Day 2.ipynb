{
 "cells": [
  {
   "cell_type": "code",
   "execution_count": 3,
   "id": "bac77362-ac6c-4a78-bbeb-587cfa50db46",
   "metadata": {},
   "outputs": [
    {
     "name": "stdout",
     "output_type": "stream",
     "text": [
      "o\n"
     ]
    }
   ],
   "source": [
    "print(\"Hello\"[4])"
   ]
  },
  {
   "cell_type": "code",
   "execution_count": 4,
   "id": "b4a92e3c-b70f-4720-8c3d-c32ec48764fc",
   "metadata": {},
   "outputs": [
    {
     "name": "stdout",
     "output_type": "stream",
     "text": [
      "468\n"
     ]
    }
   ],
   "source": [
    "print(123 + 345)"
   ]
  },
  {
   "cell_type": "code",
   "execution_count": 5,
   "id": "cb9ff128-2b33-4071-a562-eb5591e8974a",
   "metadata": {},
   "outputs": [
    {
     "name": "stdout",
     "output_type": "stream",
     "text": [
      "12345678\n"
     ]
    }
   ],
   "source": [
    "print(12345678)"
   ]
  },
  {
   "cell_type": "code",
   "execution_count": 6,
   "id": "223b6032-4173-49a7-ba08-7e49f13cedc0",
   "metadata": {},
   "outputs": [
    {
     "data": {
      "text/plain": [
       "int"
      ]
     },
     "execution_count": 6,
     "metadata": {},
     "output_type": "execute_result"
    }
   ],
   "source": [
    "type(123)"
   ]
  },
  {
   "cell_type": "code",
   "execution_count": 8,
   "id": "e79c19f4-002f-4192-84b9-409081177304",
   "metadata": {},
   "outputs": [
    {
     "name": "stdout",
     "output_type": "stream",
     "text": [
      "690.0\n"
     ]
    }
   ],
   "source": [
    "print(float(\"123.00\") + int(\"567\"))"
   ]
  },
  {
   "cell_type": "markdown",
   "id": "6c461142-f54f-491a-bb79-a497fbb8b138",
   "metadata": {},
   "source": [
    "PEMDAS\n",
    "\n",
    "P = Parentheses ()\n",
    "\n",
    "E = Exponents **\n",
    "\n",
    "M = Multiplication *\n",
    "\n",
    "D = Division /\n",
    "\n",
    "A = Addition +\n",
    "\n",
    "S = Subtraction -"
   ]
  },
  {
   "cell_type": "code",
   "execution_count": 9,
   "id": "9d05fb15-0493-4191-ac01-9d16b7c09580",
   "metadata": {},
   "outputs": [
    {
     "name": "stdout",
     "output_type": "stream",
     "text": [
      "56088\n"
     ]
    }
   ],
   "source": [
    "print(123 * 456)"
   ]
  },
  {
   "cell_type": "code",
   "execution_count": 10,
   "id": "b9c0711c-8d49-4ba0-8704-6eed2c6497d0",
   "metadata": {},
   "outputs": [
    {
     "name": "stdout",
     "output_type": "stream",
     "text": [
      "0.26292134831460673\n"
     ]
    }
   ],
   "source": [
    "print(234 / 890)"
   ]
  },
  {
   "cell_type": "code",
   "execution_count": 11,
   "id": "df0656f7-4c26-4c09-b40c-00cef0ee6a1d",
   "metadata": {},
   "outputs": [
    {
     "name": "stdout",
     "output_type": "stream",
     "text": [
      "222\n"
     ]
    }
   ],
   "source": [
    "print(345 - 123)"
   ]
  },
  {
   "cell_type": "code",
   "execution_count": 16,
   "id": "917fb565-0e33-485d-b86c-a604461c03f1",
   "metadata": {},
   "outputs": [
    {
     "name": "stdout",
     "output_type": "stream",
     "text": [
      "3\n"
     ]
    }
   ],
   "source": [
    "score = 1\n",
    "score += 2\n",
    "print(score)"
   ]
  },
  {
   "cell_type": "code",
   "execution_count": 20,
   "id": "b43b6b37-de47-4f52-bbab-1dfa911babef",
   "metadata": {},
   "outputs": [
    {
     "name": "stdout",
     "output_type": "stream",
     "text": [
      "your score is = 0 \n"
     ]
    }
   ],
   "source": [
    "score = 0\n",
    "height = 45\n",
    "print(f\"your score is = {score} \")"
   ]
  },
  {
   "cell_type": "code",
   "execution_count": 28,
   "id": "d1b6818d-30b5-407f-a59c-ca6c3267021f",
   "metadata": {},
   "outputs": [
    {
     "name": "stdout",
     "output_type": "stream",
     "text": [
      "Welcome to the tip calculator\n"
     ]
    },
    {
     "name": "stdin",
     "output_type": "stream",
     "text": [
      "What was the total bill? $ \n",
      " 4556\n",
      "How much tip would you like to give? 10, 12, or 15?\n",
      " 12\n",
      "How many people would split the bill?\n",
      " 5\n"
     ]
    },
    {
     "name": "stdout",
     "output_type": "stream",
     "text": [
      "5102.72\n",
      "1020.54\n",
      "Each person should pay $1020.54\n"
     ]
    }
   ],
   "source": [
    "print(\"Welcome to the tip calculator\")\n",
    "bill = float(input(\"What was the total bill? $ \\n\"))\n",
    "tip = int(input(\"How much tip would you like to give? 10, 12, or 15?\\n\"))\n",
    "people = int(input(\"How many people would split the bill?\\n\"))\n",
    "bill_with_tip = tip / 100 * bill + bill\n",
    "print(bill_with_tip)\n",
    "bill_per_person = bill_with_tip / people\n",
    "final_amount = round(bill_per_person ,2)\n",
    "print(final_amount)\n",
    "print(f\"Each person should pay ${final_amount}\")"
   ]
  },
  {
   "cell_type": "code",
   "execution_count": null,
   "id": "1c4ec738-03eb-469e-92ab-0a25f6ad2642",
   "metadata": {},
   "outputs": [],
   "source": []
  }
 ],
 "metadata": {
  "kernelspec": {
   "display_name": "Python 3 (ipykernel)",
   "language": "python",
   "name": "python3"
  },
  "language_info": {
   "codemirror_mode": {
    "name": "ipython",
    "version": 3
   },
   "file_extension": ".py",
   "mimetype": "text/x-python",
   "name": "python",
   "nbconvert_exporter": "python",
   "pygments_lexer": "ipython3",
   "version": "3.13.3"
  }
 },
 "nbformat": 4,
 "nbformat_minor": 5
}
